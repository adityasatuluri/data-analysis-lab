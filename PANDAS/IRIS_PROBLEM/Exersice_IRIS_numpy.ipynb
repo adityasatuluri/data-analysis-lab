{
  "cells": [
    {
      "cell_type": "markdown",
      "id": "grD8ZD3Xhcxu",
      "metadata": {
        "id": "grD8ZD3Xhcxu"
      },
      "source": [
        "SOLUTIONS:\n",
        "\n",
        "https://eduxir.com/study-material/ncert-solutions/class-11/information-practices/introduction-to-numpy/case-study-solutions/"
      ]
    },
    {
      "cell_type": "markdown",
      "id": "J3jxHRqYdigf",
      "metadata": {
        "id": "J3jxHRqYdigf"
      },
      "source": [
        "#Mounting Drive"
      ]
    },
    {
      "cell_type": "code",
      "execution_count": 75,
      "id": "-ITbdopaUwkF",
      "metadata": {
        "colab": {
          "base_uri": "https://localhost:8080/"
        },
        "id": "-ITbdopaUwkF",
        "outputId": "940375df-18d4-4486-a454-5e0f79e52d9c"
      },
      "outputs": [
        {
          "name": "stdout",
          "output_type": "stream",
          "text": [
            "Drive already mounted at /content/drive; to attempt to forcibly remount, call drive.mount(\"/content/drive\", force_remount=True).\n"
          ]
        }
      ],
      "source": [
        "from google.colab import drive\n",
        "drive.mount('/content/drive')"
      ]
    },
    {
      "cell_type": "markdown",
      "id": "9h-ebYyvdo-l",
      "metadata": {
        "id": "9h-ebYyvdo-l"
      },
      "source": [
        "#Code"
      ]
    },
    {
      "cell_type": "code",
      "execution_count": null,
      "id": "a31022b7",
      "metadata": {
        "id": "a31022b7"
      },
      "outputs": [],
      "source": [
        "import numpy as np\n",
        "import pandas as pd"
      ]
    },
    {
      "cell_type": "code",
      "execution_count": 76,
      "id": "25405ca2",
      "metadata": {
        "id": "25405ca2"
      },
      "outputs": [],
      "source": [
        "#1.\n",
        "iris = np.genfromtxt('/content/drive/MyDrive/STUDY2/DATA ANALYSIS LAB/IRIS_PROBLEM/iris1.csv', skip_header=1, delimiter=',', dtype=float)"
      ]
    },
    {
      "cell_type": "code",
      "execution_count": 81,
      "id": "5463734d",
      "metadata": {
        "id": "5463734d"
      },
      "outputs": [],
      "source": [
        "#2. Dropping column whose index=4 from array iris\n",
        "iris = np.delete(iris, 4, axis=1)"
      ]
    },
    {
      "cell_type": "code",
      "execution_count": 82,
      "id": "f3bf50ef",
      "metadata": {
        "colab": {
          "base_uri": "https://localhost:8080/"
        },
        "id": "f3bf50ef",
        "outputId": "174a96b7-dd94-4c3d-dbc4-1f24943a43ce"
      },
      "outputs": [
        {
          "name": "stdout",
          "output_type": "stream",
          "text": [
            "(149, 4)\n",
            "596\n",
            "2\n"
          ]
        }
      ],
      "source": [
        "#3.print shape, dimensions and size\n",
        "print(iris.shape)\n",
        "print(iris.size)\n",
        "print(iris.ndim)"
      ]
    },
    {
      "cell_type": "code",
      "execution_count": 85,
      "id": "d18bcbe2",
      "metadata": {
        "colab": {
          "base_uri": "https://localhost:8080/"
        },
        "id": "d18bcbe2",
        "outputId": "e936115a-502f-4e43-a99a-84c068adec61"
      },
      "outputs": [
        {
          "name": "stdout",
          "output_type": "stream",
          "text": [
            "[[4.9 3.  1.4 0.2]\n",
            " [4.7 3.2 1.3 0.2]\n",
            " [4.6 3.1 1.5 0.2]\n",
            " [5.  3.6 1.4 0.2]\n",
            " [5.4 3.9 1.7 0.4]\n",
            " [4.6 3.4 1.4 0.3]\n",
            " [5.  3.4 1.5 0.2]\n",
            " [4.4 2.9 1.4 0.2]\n",
            " [4.9 3.1 1.5 0.1]\n",
            " [5.4 3.7 1.5 0.2]\n",
            " [4.8 3.4 1.6 0.2]\n",
            " [4.8 3.  1.4 0.1]\n",
            " [4.3 3.  1.1 0.1]\n",
            " [5.8 4.  1.2 0.2]\n",
            " [5.7 4.4 1.5 0.4]\n",
            " [5.4 3.9 1.3 0.4]\n",
            " [5.1 3.5 1.4 0.3]\n",
            " [5.7 3.8 1.7 0.3]\n",
            " [5.1 3.8 1.5 0.3]\n",
            " [5.4 3.4 1.7 0.2]\n",
            " [5.1 3.7 1.5 0.4]\n",
            " [4.6 3.6 1.  0.2]\n",
            " [5.1 3.3 1.7 0.5]\n",
            " [4.8 3.4 1.9 0.2]\n",
            " [5.  3.  1.6 0.2]\n",
            " [5.  3.4 1.6 0.4]\n",
            " [5.2 3.5 1.5 0.2]\n",
            " [5.2 3.4 1.4 0.2]\n",
            " [4.7 3.2 1.6 0.2]\n",
            " [4.8 3.1 1.6 0.2]\n",
            " [5.4 3.4 1.5 0.4]\n",
            " [5.2 4.1 1.5 0.1]\n",
            " [5.5 4.2 1.4 0.2]\n",
            " [4.9 3.1 1.5 0.1]\n",
            " [5.  3.2 1.2 0.2]\n",
            " [5.5 3.5 1.3 0.2]\n",
            " [4.9 3.1 1.5 0.1]\n",
            " [4.4 3.  1.3 0.2]\n",
            " [5.1 3.4 1.5 0.2]\n",
            " [5.  3.5 1.3 0.3]\n",
            " [4.5 2.3 1.3 0.3]\n",
            " [4.4 3.2 1.3 0.2]\n",
            " [5.  3.5 1.6 0.6]\n",
            " [5.1 3.8 1.9 0.4]\n",
            " [4.8 3.  1.4 0.3]\n",
            " [5.1 3.8 1.6 0.2]\n",
            " [4.6 3.2 1.4 0.2]\n",
            " [5.3 3.7 1.5 0.2]\n",
            " [5.  3.3 1.4 0.2]\n",
            " [7.  3.2 4.7 1.4]] \n",
            "\n",
            " [[6.4 3.2 4.5 1.5]\n",
            " [6.9 3.1 4.9 1.5]\n",
            " [5.5 2.3 4.  1.3]\n",
            " [6.5 2.8 4.6 1.5]\n",
            " [5.7 2.8 4.5 1.3]\n",
            " [6.3 3.3 4.7 1.6]\n",
            " [4.9 2.4 3.3 1. ]\n",
            " [6.6 2.9 4.6 1.3]\n",
            " [5.2 2.7 3.9 1.4]\n",
            " [5.  2.  3.5 1. ]\n",
            " [5.9 3.  4.2 1.5]\n",
            " [6.  2.2 4.  1. ]\n",
            " [6.1 2.9 4.7 1.4]\n",
            " [5.6 2.9 3.6 1.3]\n",
            " [6.7 3.1 4.4 1.4]\n",
            " [5.6 3.  4.5 1.5]\n",
            " [5.8 2.7 4.1 1. ]\n",
            " [6.2 2.2 4.5 1.5]\n",
            " [5.6 2.5 3.9 1.1]\n",
            " [5.9 3.2 4.8 1.8]\n",
            " [6.1 2.8 4.  1.3]\n",
            " [6.3 2.5 4.9 1.5]\n",
            " [6.1 2.8 4.7 1.2]\n",
            " [6.4 2.9 4.3 1.3]\n",
            " [6.6 3.  4.4 1.4]\n",
            " [6.8 2.8 4.8 1.4]\n",
            " [6.7 3.  5.  1.7]\n",
            " [6.  2.9 4.5 1.5]\n",
            " [5.7 2.6 3.5 1. ]\n",
            " [5.5 2.4 3.8 1.1]\n",
            " [5.5 2.4 3.7 1. ]\n",
            " [5.8 2.7 3.9 1.2]\n",
            " [6.  2.7 5.1 1.6]\n",
            " [5.4 3.  4.5 1.5]\n",
            " [6.  3.4 4.5 1.6]\n",
            " [6.7 3.1 4.7 1.5]\n",
            " [6.3 2.3 4.4 1.3]\n",
            " [5.6 3.  4.1 1.3]\n",
            " [5.5 2.5 4.  1.3]\n",
            " [5.5 2.6 4.4 1.2]\n",
            " [6.1 3.  4.6 1.4]\n",
            " [5.8 2.6 4.  1.2]\n",
            " [5.  2.3 3.3 1. ]\n",
            " [5.6 2.7 4.2 1.3]\n",
            " [5.7 3.  4.2 1.2]\n",
            " [5.7 2.9 4.2 1.3]\n",
            " [6.2 2.9 4.3 1.3]\n",
            " [5.1 2.5 3.  1.1]\n",
            " [5.7 2.8 4.1 1.3]\n",
            " [6.3 3.3 6.  2.5]] \n",
            "\n",
            " [[5.8 2.7 5.1 1.9]\n",
            " [7.1 3.  5.9 2.1]\n",
            " [6.3 2.9 5.6 1.8]\n",
            " [6.5 3.  5.8 2.2]\n",
            " [7.6 3.  6.6 2.1]\n",
            " [4.9 2.5 4.5 1.7]\n",
            " [7.3 2.9 6.3 1.8]\n",
            " [6.7 2.5 5.8 1.8]\n",
            " [7.2 3.6 6.1 2.5]\n",
            " [6.5 3.2 5.1 2. ]\n",
            " [6.4 2.7 5.3 1.9]\n",
            " [6.8 3.  5.5 2.1]\n",
            " [5.7 2.5 5.  2. ]\n",
            " [5.8 2.8 5.1 2.4]\n",
            " [6.4 3.2 5.3 2.3]\n",
            " [6.5 3.  5.5 1.8]\n",
            " [7.7 3.8 6.7 2.2]\n",
            " [7.7 2.6 6.9 2.3]\n",
            " [6.  2.2 5.  1.5]\n",
            " [6.9 3.2 5.7 2.3]\n",
            " [5.6 2.8 4.9 2. ]\n",
            " [7.7 2.8 6.7 2. ]\n",
            " [6.3 2.7 4.9 1.8]\n",
            " [6.7 3.3 5.7 2.1]\n",
            " [7.2 3.2 6.  1.8]\n",
            " [6.2 2.8 4.8 1.8]\n",
            " [6.1 3.  4.9 1.8]\n",
            " [6.4 2.8 5.6 2.1]\n",
            " [7.2 3.  5.8 1.6]\n",
            " [7.4 2.8 6.1 1.9]\n",
            " [7.9 3.8 6.4 2. ]\n",
            " [6.4 2.8 5.6 2.2]\n",
            " [6.3 2.8 5.1 1.5]\n",
            " [6.1 2.6 5.6 1.4]\n",
            " [7.7 3.  6.1 2.3]\n",
            " [6.3 3.4 5.6 2.4]\n",
            " [6.4 3.1 5.5 1.8]\n",
            " [6.  3.  4.8 1.8]\n",
            " [6.9 3.1 5.4 2.1]\n",
            " [6.7 3.1 5.6 2.4]\n",
            " [6.9 3.1 5.1 2.3]\n",
            " [5.8 2.7 5.1 1.9]\n",
            " [6.8 3.2 5.9 2.3]\n",
            " [6.7 3.3 5.7 2.5]\n",
            " [6.7 3.  5.2 2.3]\n",
            " [6.3 2.5 5.  1.9]\n",
            " [6.5 3.  5.2 2. ]\n",
            " [6.2 3.4 5.4 2.3]\n",
            " [5.9 3.  5.1 1.8]]\n"
          ]
        }
      ],
      "source": [
        "#4. Splitting iris into 2d arrays\n",
        "iris1,iris2,iris3 = np.array_split(iris, 3)\n",
        "\n",
        "#5. Print the arrays\n",
        "print(iris1,'\\n\\n',iris2,'\\n\\n',iris3)"
      ]
    },
    {
      "cell_type": "code",
      "execution_count": 86,
      "id": "59a10f93",
      "metadata": {
        "colab": {
          "base_uri": "https://localhost:8080/"
        },
        "id": "59a10f93",
        "outputId": "f1dd7b94-b979-43ec-bb08-e9aa88c2056c"
      },
      "outputs": [
        {
          "name": "stdout",
          "output_type": "stream",
          "text": [
            "['sepal length' 'sepal width' 'petal length' 'petal width' 'species No']\n"
          ]
        }
      ],
      "source": [
        "#6.\n",
        "header=np.array([\"sepal length\",\"sepal width\",\"petal length\",\"petal width\",\"species No\"])\n",
        "#7.\n",
        "print(header)"
      ]
    },
    {
      "cell_type": "code",
      "execution_count": 87,
      "id": "32e8eaf6",
      "metadata": {
        "id": "32e8eaf6",
        "scrolled": true
      },
      "outputs": [],
      "source": [
        "#8.\n",
        "iris_max=iris.max(axis=0).round(2)\n",
        "iris_min=iris.min(axis=0).round(2)\n",
        "iris_avg=iris.mean(axis=0).round(2)\n",
        "iris_std=iris.std(axis=0).round(2)"
      ]
    },
    {
      "cell_type": "code",
      "execution_count": 88,
      "id": "PSZj9sTGVaUI",
      "metadata": {
        "id": "PSZj9sTGVaUI"
      },
      "outputs": [],
      "source": [
        "#9.\n",
        "iris1_max=iris1.max(axis=0).round(2)\n",
        "iris1_min=iris1.min(axis=0).round(2)\n",
        "iris1_avg=iris1.mean(axis=0).round(2)\n",
        "iris1_std=iris1.std(axis=0).round(2)\n",
        "\n",
        "iris2_max=iris2.max(axis=0).round(2)\n",
        "iris2_min=iris2.min(axis=0).round(2)\n",
        "iris2_avg=iris2.mean(axis=0).round(2)\n",
        "iris2_std=iris2.std(axis=0).round(2)\n",
        "\n",
        "iris3_max=iris3.max(axis=0).round(2)\n",
        "iris3_min=iris3.min(axis=0).round(2)\n",
        "iris3_avg=iris3.mean(axis=0).round(2)\n",
        "iris3_std=iris3.std(axis=0).round(2)"
      ]
    },
    {
      "cell_type": "code",
      "execution_count": 89,
      "id": "A30N58jzV2Kx",
      "metadata": {
        "colab": {
          "base_uri": "https://localhost:8080/",
          "height": 70
        },
        "id": "A30N58jzV2Kx",
        "outputId": "2a9886a3-adc9-456d-a677-10f5cbad220d"
      },
      "outputs": [
        {
          "data": {
            "application/vnd.google.colaboratory.intrinsic+json": {
              "type": "string"
            },
            "text/plain": [
              "'\\n# Loop through rows and columns to fill the DataFrame\\nfor row in rows:\\n    iris_min_value = globals()[\"iris_min\"][rows.index(row)]  # Get the corresponding iris_min value\\n\\n    for column in columns:\\n        iris_min_column = globals()[\"iris{}_min\".format(columns.index(column) + 1)][rows.index(row)]\\n        condition = iris_min_column > iris_min_value\\n        df.loc[row, column] = condition\\n'"
            ]
          },
          "execution_count": 89,
          "metadata": {},
          "output_type": "execute_result"
        }
      ],
      "source": [
        "#10.\n",
        "\n",
        "columns = [\"Iris setosa\", \"Iris virginica\", \"Iris versicolor\"]\n",
        "rows = [\"sepal length\", \"sepal width\", \"petal length\", \"petal width\"]\n",
        "\n",
        "df = pd.DataFrame(columns=columns, index=rows)\n",
        "\n",
        "df.loc[\"sepal length\",\"Iris setosa\"]=iris1_min[0] > iris_min[0]\n",
        "df.loc[\"sepal length\",\"Iris virginica\"]=iris2_min[0] > iris_min[0]\n",
        "df.loc[\"sepal length\",\"Iris versicolor\"]=iris3_min[0] > iris_min[0]\n",
        "\n",
        "df.loc[\"sepal width\",\"Iris setosa\"]=iris1_min[1] > iris_min[1]\n",
        "df.loc[\"sepal width\",\"Iris virginica\"]=iris2_min[1] > iris_min[1]\n",
        "df.loc[\"sepal width\",\"Iris versicolor\"]=iris3_min[1] > iris_min[1]\n",
        "\n",
        "df.loc[\"petal length\",\"Iris setosa\"]=iris1_min[2] > iris_min[2]\n",
        "df.loc[\"petal length\",\"Iris virginica\"]=iris2_min[2] > iris_min[2]\n",
        "df.loc[\"petal length\",\"Iris versicolor\"]=iris3_min[2] > iris_min[2]\n",
        "\n",
        "df.loc[\"petal width\",\"Iris setosa\"]=iris1_min[3] > iris_min[3]\n",
        "df.loc[\"petal width\",\"Iris virginica\"]=iris2_min[3] > iris_min[3]\n",
        "df.loc[\"petal width\",\"Iris versicolor\"]=iris3_min[3] > iris_min[3]\n",
        "\n",
        "\n",
        "#or\n",
        "'''\n",
        "# Loop through rows and columns to fill the DataFrame\n",
        "for row in rows:\n",
        "    iris_min_value = globals()[\"iris_min\"][rows.index(row)]  # Get the corresponding iris_min value\n",
        "\n",
        "    for column in columns:\n",
        "        iris_min_column = globals()[\"iris{}_min\".format(columns.index(column) + 1)][rows.index(row)]\n",
        "        condition = iris_min_column > iris_min_value\n",
        "        df.loc[row, column] = condition\n",
        "'''\n",
        "\n",
        "df"
      ]
    },
    {
      "cell_type": "code",
      "execution_count": 90,
      "id": "k9NOtRWXYFpv",
      "metadata": {
        "colab": {
          "base_uri": "https://localhost:8080/"
        },
        "id": "k9NOtRWXYFpv",
        "outputId": "d1fdb339-6280-43ed-eda5-86406f77cb07"
      },
      "outputs": [
        {
          "name": "stdout",
          "output_type": "stream",
          "text": [
            "[ True False False]\n"
          ]
        }
      ],
      "source": [
        "#11, 12, 13.\n",
        "\n",
        "iris_avg=np.array([(iris1_avg[1]>iris2_avg[1]),\n",
        "                   (iris1_avg[2]>iris2_avg[2]),\n",
        "                   (iris1_avg[3]>iris2_avg[3])])\n",
        "\n",
        "print(iris_avg)"
      ]
    },
    {
      "cell_type": "code",
      "execution_count": 91,
      "id": "mdK3hLydaVF8",
      "metadata": {
        "id": "mdK3hLydaVF8"
      },
      "outputs": [],
      "source": [
        "#14.\n",
        "np.savetxt('/content/drive/MyDrive/STUDY2/DATA ANALYSIS LAB/IRIS_PROBLEM/IrisMeanValues.txt',iris_avg,delimiter=',',fmt='%.2f')"
      ]
    },
    {
      "cell_type": "code",
      "execution_count": 92,
      "id": "cNiLVzfNamcT",
      "metadata": {
        "id": "cNiLVzfNamcT"
      },
      "outputs": [],
      "source": [
        "#15.\n",
        "# Find the maximum number of columns among the arrays\n",
        "max_columns = max(iris_max.shape[0], iris_avg.shape[0], iris_min.shape[0])\n",
        "\n",
        "# Pad the shorter arrays with NaN values to match the maximum number of columns\n",
        "iris_max_padded = np.pad(iris_max, (0, max_columns - iris_max.shape[0]), constant_values=np.nan)\n",
        "iris_avg_padded = np.pad(iris_avg, (0, max_columns - iris_avg.shape[0]), constant_values=np.nan)\n",
        "iris_min_padded = np.pad(iris_min, (0, max_columns - iris_min.shape[0]), constant_values=np.nan)\n",
        "\n",
        "# Stack the padded arrays vertically to create a 2D array\n",
        "iris_stat = np.vstack((iris_max_padded, iris_avg_padded, iris_min_padded))\n",
        "\n",
        "fmt = '%.2f'\n",
        "\n",
        "np.savetxt('/content/drive/MyDrive/STUDY2/DATA ANALYSIS LAB/IRIS_PROBLEM/IrisStat.txt',\n",
        "           iris_stat, delimiter=',', fmt=fmt)\n"
      ]
    }
  ],
  "metadata": {
    "colab": {
      "collapsed_sections": [
        "J3jxHRqYdigf",
        "9h-ebYyvdo-l"
      ],
      "provenance": []
    },
    "kernelspec": {
      "display_name": "Python 3 (ipykernel)",
      "language": "python",
      "name": "python3"
    },
    "language_info": {
      "codemirror_mode": {
        "name": "ipython",
        "version": 3
      },
      "file_extension": ".py",
      "mimetype": "text/x-python",
      "name": "python",
      "nbconvert_exporter": "python",
      "pygments_lexer": "ipython3",
      "version": "3.11.3"
    }
  },
  "nbformat": 4,
  "nbformat_minor": 5
}
